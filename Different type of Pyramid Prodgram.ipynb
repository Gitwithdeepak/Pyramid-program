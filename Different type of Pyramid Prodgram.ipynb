{
 "cells": [
  {
   "cell_type": "code",
   "execution_count": null,
   "id": "a11dd1ac",
   "metadata": {},
   "outputs": [],
   "source": [
    "n=int(input(\"enter the number of rows needed:\"))\n",
    "for i in range (n):\n",
    "    for j in range(n-i-1):  #(if you want to the change of the side) \n",
    "        print (\" \",end=\"\")\n",
    "    for j in range (i+1):\n",
    "        print(j+1,end=\"\")\n",
    "    print()"
   ]
  },
  {
   "cell_type": "code",
   "execution_count": null,
   "id": "6a58406a",
   "metadata": {},
   "outputs": [],
   "source": [
    "n=int(input(\"enter the number of rows needed:\"))\n",
    "for i in range (n):# 0123\n",
    "     #for j in range(n-i-1):  (if you want to the change of the side) \n",
    "        #print (\" \",end=\"\")\n",
    "    for j in range (i,-1,-1):\n",
    "        print(j+1,end=\"\")\n",
    "    print()"
   ]
  },
  {
   "cell_type": "code",
   "execution_count": null,
   "id": "7f9015c4",
   "metadata": {},
   "outputs": [],
   "source": [
    "n=int(input(\"enter the number of rows needed:\"))\n",
    "for i in range (n):# 0123\n",
    "     #for j in range(n-i-1):  (if you want to the change of the side) \n",
    "        #print (\" \",end=\"\")\n",
    "    for j in range (i,-1,-1):\n",
    "        print(i+1,end=\"\")\n",
    "    print()"
   ]
  },
  {
   "cell_type": "code",
   "execution_count": null,
   "id": "63d10bb0",
   "metadata": {},
   "outputs": [],
   "source": [
    "n=int(input(\"enter the number of rows needed:\"))\n",
    "for i in range (n):# 0123\n",
    "     #for j in range(n-i-1):  (if you want to the change of the side) \n",
    "        #print (\" \",end=\"\")\n",
    "    for j in range (i+1):\n",
    "        print(n-i,end=\"\")\n",
    "    print()"
   ]
  },
  {
   "cell_type": "code",
   "execution_count": null,
   "id": "7ecca31d",
   "metadata": {},
   "outputs": [],
   "source": [
    "n=int(input(\"enter the number of rows needed:\"))\n",
    "for i in range (n):# 0123\n",
    "     #for j in range(n-i-1):  (if you want to the change of the side) \n",
    "        #print (\" \",end=\"\")s\n",
    "    for j in range (i+1):\n",
    "        print(n-j,end=\"\")\n",
    "    print()"
   ]
  }
 ],
 "metadata": {
  "kernelspec": {
   "display_name": "Python 3 (ipykernel)",
   "language": "python",
   "name": "python3"
  },
  "language_info": {
   "codemirror_mode": {
    "name": "ipython",
    "version": 3
   },
   "file_extension": ".py",
   "mimetype": "text/x-python",
   "name": "python",
   "nbconvert_exporter": "python",
   "pygments_lexer": "ipython3",
   "version": "3.9.7"
  }
 },
 "nbformat": 4,
 "nbformat_minor": 5
}
